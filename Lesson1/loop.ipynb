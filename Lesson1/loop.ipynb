{
 "cells": [
  {
   "cell_type": "code",
   "execution_count": 1,
   "metadata": {},
   "outputs": [
    {
     "name": "stdout",
     "output_type": "stream",
     "text": [
      "0\n",
      "1\n",
      "2\n",
      "3\n",
      "4\n"
     ]
    }
   ],
   "source": [
    "\n",
    "idx = 0\n",
    "\n",
    "while idx < 5:\n",
    "    print(idx)\n",
    "    idx +=1"
   ]
  },
  {
   "cell_type": "code",
   "execution_count": 7,
   "metadata": {},
   "outputs": [
    {
     "name": "stdout",
     "output_type": "stream",
     "text": [
      "0\n",
      "10\n",
      "2\n",
      "11\n",
      "4\n",
      "12\n",
      "6\n",
      "13\n",
      "8\n",
      "14\n",
      "10\n",
      "15\n",
      "12\n",
      "16\n",
      "14\n",
      "17\n",
      "16\n",
      "18\n",
      "18\n",
      "19\n",
      "20\n",
      "20\n"
     ]
    }
   ],
   "source": [
    "idx = 0\n",
    "\n",
    "limit = 10\n",
    "\n",
    "while True:\n",
    "    if idx > limit:\n",
    "        break\n",
    "    print(idx, limit, sep='\\n')\n",
    "    idx += 2\n",
    "    limit += 1"
   ]
  },
  {
   "cell_type": "code",
   "execution_count": 6,
   "metadata": {},
   "outputs": [
    {
     "name": "stdout",
     "output_type": "stream",
     "text": [
      "2\n",
      "11\n",
      "6\n",
      "13\n",
      "10\n",
      "15\n",
      "14\n",
      "17\n",
      "18\n",
      "19\n",
      "22\n",
      "21\n"
     ]
    }
   ],
   "source": [
    "idx = 0\n",
    "\n",
    "limit = 10\n",
    "\n",
    "while True:\n",
    "    if idx > limit:\n",
    "        break\n",
    "    idx += 2\n",
    "    limit += 1\n",
    "    if limit % 2 == 0:\n",
    "        continue\n",
    "    print(idx, limit, sep='\\n')"
   ]
  },
  {
   "cell_type": "code",
   "execution_count": null,
   "metadata": {},
   "outputs": [],
   "source": []
  }
 ],
 "metadata": {
  "kernelspec": {
   "display_name": "Python 3",
   "language": "python",
   "name": "python3"
  },
  "language_info": {
   "codemirror_mode": {
    "name": "ipython",
    "version": 3
   },
   "file_extension": ".py",
   "mimetype": "text/x-python",
   "name": "python",
   "nbconvert_exporter": "python",
   "pygments_lexer": "ipython3",
   "version": "3.7.0"
  }
 },
 "nbformat": 4,
 "nbformat_minor": 2
}
