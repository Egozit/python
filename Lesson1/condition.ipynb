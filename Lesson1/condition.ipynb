{
 "cells": [
  {
   "cell_type": "code",
   "execution_count": 1,
   "metadata": {},
   "outputs": [
    {
     "name": "stdout",
     "output_type": "stream",
     "text": [
      "value is True\n"
     ]
    }
   ],
   "source": [
    "if True:\n",
    "    print('value is True')"
   ]
  },
  {
   "cell_type": "code",
   "execution_count": 2,
   "metadata": {},
   "outputs": [
    {
     "name": "stdout",
     "output_type": "stream",
     "text": [
      "value is False\n"
     ]
    }
   ],
   "source": [
    "if False:\n",
    "    pass\n",
    "else:\n",
    "    print(\"value is False\")"
   ]
  },
  {
   "cell_type": "code",
   "execution_count": 4,
   "metadata": {},
   "outputs": [
    {
     "name": "stdout",
     "output_type": "stream",
     "text": [
      "value a == value b\n"
     ]
    }
   ],
   "source": [
    "a = 5\n",
    "\n",
    "b = a\n",
    "\n",
    "\n",
    "if a > b:\n",
    "    pass\n",
    "elif a == b:\n",
    "    print(\"value a == value b\")\n",
    "else:\n",
    "    pass"
   ]
  },
  {
   "cell_type": "code",
   "execution_count": 5,
   "metadata": {},
   "outputs": [
    {
     "name": "stdout",
     "output_type": "stream",
     "text": [
      "value a == value b\n"
     ]
    }
   ],
   "source": [
    "a = 5\n",
    "\n",
    "b = a\n",
    "\n",
    "\n",
    "if a > b:\n",
    "    pass\n",
    "else:\n",
    "    if a == b:\n",
    "        print(\"value a == value b\")\n"
   ]
  },
  {
   "cell_type": "code",
   "execution_count": null,
   "metadata": {},
   "outputs": [],
   "source": []
  }
 ],
 "metadata": {
  "kernelspec": {
   "display_name": "Python 3",
   "language": "python",
   "name": "python3"
  },
  "language_info": {
   "codemirror_mode": {
    "name": "ipython",
    "version": 3
   },
   "file_extension": ".py",
   "mimetype": "text/x-python",
   "name": "python",
   "nbconvert_exporter": "python",
   "pygments_lexer": "ipython3",
   "version": "3.7.0"
  }
 },
 "nbformat": 4,
 "nbformat_minor": 2
}
